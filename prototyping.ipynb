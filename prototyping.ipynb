{
 "metadata": {
  "language_info": {
   "codemirror_mode": {
    "name": "ipython",
    "version": 3
   },
   "file_extension": ".py",
   "mimetype": "text/x-python",
   "name": "python",
   "nbconvert_exporter": "python",
   "pygments_lexer": "ipython3",
   "version": "3.8.5-final"
  },
  "orig_nbformat": 2,
  "kernelspec": {
   "name": "python37564bitapdoctopusenergypipenvd2f202e02c99434182c30f822bf1be19",
   "display_name": "Python 3.7.5 64-bit ('apd.octopusenergy': pipenv)",
   "language": "python"
  }
 },
 "nbformat": 4,
 "nbformat_minor": 2,
 "cells": [
  {
   "cell_type": "code",
   "execution_count": 1,
   "metadata": {},
   "outputs": [],
   "source": [
    "import requests\n",
    "\n",
    "API_KEY = \"xxxxx\"\n",
    "MPAN = \"xxxxx\"\n",
    "SERIAL = \"xxxxx\""
   ]
  },
  {
   "cell_type": "code",
   "execution_count": 2,
   "metadata": {},
   "outputs": [
    {
     "output_type": "stream",
     "name": "stdout",
     "text": [
      "<Response [200]>\n"
     ]
    }
   ],
   "source": [
    "url = f\"https://api.octopus.energy/v1/electricity-meter-points/{MPAN}/meters/{SERIAL}/consumption/?period_from=2020-12-24T00:00:00Z\"\n",
    "data = requests.get(url, auth=(API_KEY, \"\"))\n",
    "print(data)"
   ]
  },
  {
   "cell_type": "code",
   "execution_count": 3,
   "metadata": {},
   "outputs": [
    {
     "output_type": "stream",
     "name": "stdout",
     "text": [
      "{'count': 47, 'next': None, 'previous': None, 'results': [{'consumption': 0.189, 'interval_start': '2020-12-24T23:00:00Z', 'interval_end': '2020-12-24T23:30:00Z'}, {'consumption': 0.172, 'interval_start': '2020-12-24T22:30:00Z', 'interval_end': '2020-12-24T23:00:00Z'}, {'consumption': 0.119, 'interval_start': '2020-12-24T22:00:00Z', 'interval_end': '2020-12-24T22:30:00Z'}, {'consumption': 0.142, 'interval_start': '2020-12-24T21:30:00Z', 'interval_end': '2020-12-24T22:00:00Z'}, {'consumption': 0.155, 'interval_start': '2020-12-24T21:00:00Z', 'interval_end': '2020-12-24T21:30:00Z'}, {'consumption': 0.17, 'interval_start': '2020-12-24T20:30:00Z', 'interval_end': '2020-12-24T21:00:00Z'}, {'consumption': 0.178, 'interval_start': '2020-12-24T20:00:00Z', 'interval_end': '2020-12-24T20:30:00Z'}, {'consumption': 0.179, 'interval_start': '2020-12-24T19:30:00Z', 'interval_end': '2020-12-24T20:00:00Z'}, {'consumption': 0.214, 'interval_start': '2020-12-24T19:00:00Z', 'interval_end': '2020-12-24T19:30:00Z'}, {'consumption': 0.223, 'interval_start': '2020-12-24T18:30:00Z', 'interval_end': '2020-12-24T19:00:00Z'}, {'consumption': 0.334, 'interval_start': '2020-12-24T18:00:00Z', 'interval_end': '2020-12-24T18:30:00Z'}, {'consumption': 1.022, 'interval_start': '2020-12-24T17:30:00Z', 'interval_end': '2020-12-24T18:00:00Z'}, {'consumption': 0.251, 'interval_start': '2020-12-24T17:00:00Z', 'interval_end': '2020-12-24T17:30:00Z'}, {'consumption': 0.246, 'interval_start': '2020-12-24T16:30:00Z', 'interval_end': '2020-12-24T17:00:00Z'}, {'consumption': 0.223, 'interval_start': '2020-12-24T16:00:00Z', 'interval_end': '2020-12-24T16:30:00Z'}, {'consumption': 0.224, 'interval_start': '2020-12-24T15:30:00Z', 'interval_end': '2020-12-24T16:00:00Z'}, {'consumption': 0.21, 'interval_start': '2020-12-24T15:00:00Z', 'interval_end': '2020-12-24T15:30:00Z'}, {'consumption': 0.254, 'interval_start': '2020-12-24T14:30:00Z', 'interval_end': '2020-12-24T15:00:00Z'}, {'consumption': 0.167, 'interval_start': '2020-12-24T14:00:00Z', 'interval_end': '2020-12-24T14:30:00Z'}, {'consumption': 0.241, 'interval_start': '2020-12-24T13:30:00Z', 'interval_end': '2020-12-24T14:00:00Z'}, {'consumption': 0.738, 'interval_start': '2020-12-24T13:00:00Z', 'interval_end': '2020-12-24T13:30:00Z'}, {'consumption': 0.549, 'interval_start': '2020-12-24T12:30:00Z', 'interval_end': '2020-12-24T13:00:00Z'}, {'consumption': 0.056, 'interval_start': '2020-12-24T12:00:00Z', 'interval_end': '2020-12-24T12:30:00Z'}, {'consumption': 0.029, 'interval_start': '2020-12-24T11:30:00Z', 'interval_end': '2020-12-24T12:00:00Z'}, {'consumption': 0.003, 'interval_start': '2020-12-24T11:00:00Z', 'interval_end': '2020-12-24T11:30:00Z'}, {'consumption': 0.055, 'interval_start': '2020-12-24T10:30:00Z', 'interval_end': '2020-12-24T11:00:00Z'}, {'consumption': 0.16, 'interval_start': '2020-12-24T10:00:00Z', 'interval_end': '2020-12-24T10:30:00Z'}, {'consumption': 0.252, 'interval_start': '2020-12-24T09:30:00Z', 'interval_end': '2020-12-24T10:00:00Z'}, {'consumption': 0.671, 'interval_start': '2020-12-24T09:00:00Z', 'interval_end': '2020-12-24T09:30:00Z'}, {'consumption': 0.129, 'interval_start': '2020-12-24T08:30:00Z', 'interval_end': '2020-12-24T09:00:00Z'}, {'consumption': 0.12, 'interval_start': '2020-12-24T08:00:00Z', 'interval_end': '2020-12-24T08:30:00Z'}, {'consumption': 0.09, 'interval_start': '2020-12-24T07:30:00Z', 'interval_end': '2020-12-24T08:00:00Z'}, {'consumption': 0.088, 'interval_start': '2020-12-24T07:00:00Z', 'interval_end': '2020-12-24T07:30:00Z'}, {'consumption': 0.076, 'interval_start': '2020-12-24T06:30:00Z', 'interval_end': '2020-12-24T07:00:00Z'}, {'consumption': 0.08, 'interval_start': '2020-12-24T06:00:00Z', 'interval_end': '2020-12-24T06:30:00Z'}, {'consumption': 0.088, 'interval_start': '2020-12-24T05:30:00Z', 'interval_end': '2020-12-24T06:00:00Z'}, {'consumption': 0.077, 'interval_start': '2020-12-24T05:00:00Z', 'interval_end': '2020-12-24T05:30:00Z'}, {'consumption': 0.079, 'interval_start': '2020-12-24T04:30:00Z', 'interval_end': '2020-12-24T05:00:00Z'}, {'consumption': 0.078, 'interval_start': '2020-12-24T04:00:00Z', 'interval_end': '2020-12-24T04:30:00Z'}, {'consumption': 0.071, 'interval_start': '2020-12-24T03:30:00Z', 'interval_end': '2020-12-24T04:00:00Z'}, {'consumption': 0.073, 'interval_start': '2020-12-24T03:00:00Z', 'interval_end': '2020-12-24T03:30:00Z'}, {'consumption': 0.072, 'interval_start': '2020-12-24T02:30:00Z', 'interval_end': '2020-12-24T03:00:00Z'}, {'consumption': 0.075, 'interval_start': '2020-12-24T02:00:00Z', 'interval_end': '2020-12-24T02:30:00Z'}, {'consumption': 0.08, 'interval_start': '2020-12-24T01:30:00Z', 'interval_end': '2020-12-24T02:00:00Z'}, {'consumption': 0.081, 'interval_start': '2020-12-24T01:00:00Z', 'interval_end': '2020-12-24T01:30:00Z'}, {'consumption': 0.082, 'interval_start': '2020-12-24T00:30:00Z', 'interval_end': '2020-12-24T01:00:00Z'}, {'consumption': 0.083, 'interval_start': '2020-12-24T00:00:00Z', 'interval_end': '2020-12-24T00:30:00Z'}]}\n"
     ]
    }
   ],
   "source": [
    "print(data.json())\n"
   ]
  },
  {
   "cell_type": "code",
   "execution_count": 4,
   "metadata": {},
   "outputs": [],
   "source": [
    "from apd.sensors.base import HistoricalSensor, JSONSensor\n",
    "import typing as t\n",
    "import datetime\n",
    "import pint\n",
    "from pint import _DEFAULT_REGISTRY as ureg\n"
   ]
  },
  {
   "cell_type": "code",
   "execution_count": 5,
   "metadata": {},
   "outputs": [],
   "source": [
    "class PowerUsageSensor(HistoricalSensor[t.Any], JSONSensor[t.Any]):\n",
    "    def historical(\n",
    "        self, start: datetime.datetime, end: datetime.datetime\n",
    "    ) -> t.Iterable[t.Tuple[datetime.datetime, t.Any]]:\n",
    "        url = f\"https://api.octopus.energy/v1/electricity-meter-points/{MPAN}/meters/{SERIAL}/consumption/\"\n",
    "        data = requests.get(url, params={\"period_from\": start.isoformat(), \"period_to\": end.isoformat(), \"page_size\": 25000}, auth=(API_KEY, \"\"))\n",
    "        results = data.json()[\"results\"]\n",
    "        for item in results:\n",
    "            yield datetime.datetime.fromisoformat(item['interval_end'].strip(\"Z\")), ureg.Quantity(item['consumption'], ureg.kilowatthour)\n"
   ]
  },
  {
   "cell_type": "code",
   "execution_count": 6,
   "metadata": {},
   "outputs": [
    {
     "output_type": "execute_result",
     "data": {
      "text/plain": [
       "((datetime.datetime(2020, 12, 24, 23, 30), 0.189 <Unit('kilowatt_hour')>),\n",
       " (datetime.datetime(2020, 12, 24, 23, 0), 0.172 <Unit('kilowatt_hour')>),\n",
       " (datetime.datetime(2020, 12, 24, 22, 30), 0.119 <Unit('kilowatt_hour')>),\n",
       " (datetime.datetime(2020, 12, 24, 22, 0), 0.142 <Unit('kilowatt_hour')>),\n",
       " (datetime.datetime(2020, 12, 24, 21, 30), 0.155 <Unit('kilowatt_hour')>),\n",
       " (datetime.datetime(2020, 12, 24, 21, 0), 0.17 <Unit('kilowatt_hour')>),\n",
       " (datetime.datetime(2020, 12, 24, 20, 30), 0.178 <Unit('kilowatt_hour')>),\n",
       " (datetime.datetime(2020, 12, 24, 20, 0), 0.179 <Unit('kilowatt_hour')>),\n",
       " (datetime.datetime(2020, 12, 24, 19, 30), 0.214 <Unit('kilowatt_hour')>),\n",
       " (datetime.datetime(2020, 12, 24, 19, 0), 0.223 <Unit('kilowatt_hour')>),\n",
       " (datetime.datetime(2020, 12, 24, 18, 30), 0.334 <Unit('kilowatt_hour')>),\n",
       " (datetime.datetime(2020, 12, 24, 18, 0), 1.022 <Unit('kilowatt_hour')>),\n",
       " (datetime.datetime(2020, 12, 24, 17, 30), 0.251 <Unit('kilowatt_hour')>),\n",
       " (datetime.datetime(2020, 12, 24, 17, 0), 0.246 <Unit('kilowatt_hour')>),\n",
       " (datetime.datetime(2020, 12, 24, 16, 30), 0.223 <Unit('kilowatt_hour')>),\n",
       " (datetime.datetime(2020, 12, 24, 16, 0), 0.224 <Unit('kilowatt_hour')>),\n",
       " (datetime.datetime(2020, 12, 24, 15, 30), 0.21 <Unit('kilowatt_hour')>),\n",
       " (datetime.datetime(2020, 12, 24, 15, 0), 0.254 <Unit('kilowatt_hour')>),\n",
       " (datetime.datetime(2020, 12, 24, 14, 30), 0.167 <Unit('kilowatt_hour')>),\n",
       " (datetime.datetime(2020, 12, 24, 14, 0), 0.241 <Unit('kilowatt_hour')>),\n",
       " (datetime.datetime(2020, 12, 24, 13, 30), 0.738 <Unit('kilowatt_hour')>),\n",
       " (datetime.datetime(2020, 12, 24, 13, 0), 0.549 <Unit('kilowatt_hour')>),\n",
       " (datetime.datetime(2020, 12, 24, 12, 30), 0.056 <Unit('kilowatt_hour')>))"
      ]
     },
     "metadata": {},
     "execution_count": 6
    }
   ],
   "source": [
    "tuple(PowerUsageSensor().historical(datetime.datetime(2020,12,24,12,0,0), datetime.datetime(2020,12,24,23,0,0)))"
   ]
  },
  {
   "cell_type": "code",
   "execution_count": null,
   "metadata": {},
   "outputs": [],
   "source": []
  }
 ]
}