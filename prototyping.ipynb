{
 "metadata": {
  "language_info": {
   "codemirror_mode": {
    "name": "ipython",
    "version": 3
   },
   "file_extension": ".py",
   "mimetype": "text/x-python",
   "name": "python",
   "nbconvert_exporter": "python",
   "pygments_lexer": "ipython3",
   "version": "3.7.5-final"
  },
  "orig_nbformat": 2,
  "kernelspec": {
   "name": "python37564bitapdoctopusenergypipenvd2f202e02c99434182c30f822bf1be19",
   "display_name": "Python 3.7.5 64-bit ('apd.octopusenergy': pipenv)"
  }
 },
 "nbformat": 4,
 "nbformat_minor": 2,
 "cells": [
  {
   "cell_type": "code",
   "execution_count": 1,
   "metadata": {},
   "outputs": [],
   "source": [
    "import requests\n",
    "\n",
    "API_KEY = \"xxxxx\"\n",
    "MPAN = \"xxxxx\"\n",
    "SERIAL = \"xxxxx\""
   ]
  },
  {
   "cell_type": "code",
   "execution_count": 5,
   "metadata": {},
   "outputs": [
    {
     "output_type": "stream",
     "name": "stdout",
     "text": [
      "<bound method Response.json of <Response [200]>>\n"
     ]
    }
   ],
   "source": [
    "url = f\"https://api.octopus.energy/v1/electricity-meter-points/{MPAN}/meters/{SERIAL}/consumption/\"\n",
    "data = requests.get(url, auth=(API_KEY, \"\"))\n",
    "\n"
   ]
  },
  {
   "cell_type": "code",
   "execution_count": 7,
   "metadata": {},
   "outputs": [
    {
     "output_type": "stream",
     "name": "stdout",
     "text": [
      "{'count': 48, 'next': None, 'previous': None, 'results': [{'consumption': 0.105, 'interval_start': '2020-11-22T23:00:00Z', 'interval_end': '2020-11-22T23:30:00Z'}, {'consumption': 0.152, 'interval_start': '2020-11-22T22:30:00Z', 'interval_end': '2020-11-22T23:00:00Z'}, {'consumption': 0.252, 'interval_start': '2020-11-22T22:00:00Z', 'interval_end': '2020-11-22T22:30:00Z'}, {'consumption': 0.383, 'interval_start': '2020-11-22T21:30:00Z', 'interval_end': '2020-11-22T22:00:00Z'}, {'consumption': 0.86, 'interval_start': '2020-11-22T21:00:00Z', 'interval_end': '2020-11-22T21:30:00Z'}, {'consumption': 0.185, 'interval_start': '2020-11-22T20:30:00Z', 'interval_end': '2020-11-22T21:00:00Z'}, {'consumption': 0.338, 'interval_start': '2020-11-22T20:00:00Z', 'interval_end': '2020-11-22T20:30:00Z'}, {'consumption': 0.207, 'interval_start': '2020-11-22T19:30:00Z', 'interval_end': '2020-11-22T20:00:00Z'}, {'consumption': 0.388, 'interval_start': '2020-11-22T19:00:00Z', 'interval_end': '2020-11-22T19:30:00Z'}, {'consumption': 0.727, 'interval_start': '2020-11-22T18:30:00Z', 'interval_end': '2020-11-22T19:00:00Z'}, {'consumption': 0.501, 'interval_start': '2020-11-22T18:00:00Z', 'interval_end': '2020-11-22T18:30:00Z'}, {'consumption': 0.171, 'interval_start': '2020-11-22T17:30:00Z', 'interval_end': '2020-11-22T18:00:00Z'}, {'consumption': 0.254, 'interval_start': '2020-11-22T17:00:00Z', 'interval_end': '2020-11-22T17:30:00Z'}, {'consumption': 0.321, 'interval_start': '2020-11-22T16:30:00Z', 'interval_end': '2020-11-22T17:00:00Z'}, {'consumption': 0.325, 'interval_start': '2020-11-22T16:00:00Z', 'interval_end': '2020-11-22T16:30:00Z'}, {'consumption': 0.139, 'interval_start': '2020-11-22T15:30:00Z', 'interval_end': '2020-11-22T16:00:00Z'}, {'consumption': 0.139, 'interval_start': '2020-11-22T15:00:00Z', 'interval_end': '2020-11-22T15:30:00Z'}, {'consumption': 0.067, 'interval_start': '2020-11-22T14:30:00Z', 'interval_end': '2020-11-22T15:00:00Z'}, {'consumption': 0.066, 'interval_start': '2020-11-22T14:00:00Z', 'interval_end': '2020-11-22T14:30:00Z'}, {'consumption': 0.038, 'interval_start': '2020-11-22T13:30:00Z', 'interval_end': '2020-11-22T14:00:00Z'}, {'consumption': 0.146, 'interval_start': '2020-11-22T13:00:00Z', 'interval_end': '2020-11-22T13:30:00Z'}, {'consumption': 0.045, 'interval_start': '2020-11-22T12:30:00Z', 'interval_end': '2020-11-22T13:00:00Z'}, {'consumption': 0.317, 'interval_start': '2020-11-22T12:00:00Z', 'interval_end': '2020-11-22T12:30:00Z'}, {'consumption': 0.256, 'interval_start': '2020-11-22T11:30:00Z', 'interval_end': '2020-11-22T12:00:00Z'}, {'consumption': 0.007, 'interval_start': '2020-11-22T11:00:00Z', 'interval_end': '2020-11-22T11:30:00Z'}, {'consumption': 0.071, 'interval_start': '2020-11-22T10:30:00Z', 'interval_end': '2020-11-22T11:00:00Z'}, {'consumption': 0.125, 'interval_start': '2020-11-22T10:00:00Z', 'interval_end': '2020-11-22T10:30:00Z'}, {'consumption': 0.037, 'interval_start': '2020-11-22T09:30:00Z', 'interval_end': '2020-11-22T10:00:00Z'}, {'consumption': 0.061, 'interval_start': '2020-11-22T09:00:00Z', 'interval_end': '2020-11-22T09:30:00Z'}, {'consumption': 0.075, 'interval_start': '2020-11-22T08:30:00Z', 'interval_end': '2020-11-22T09:00:00Z'}, {'consumption': 0.115, 'interval_start': '2020-11-22T08:00:00Z', 'interval_end': '2020-11-22T08:30:00Z'}, {'consumption': 0.109, 'interval_start': '2020-11-22T07:30:00Z', 'interval_end': '2020-11-22T08:00:00Z'}, {'consumption': 0.067, 'interval_start': '2020-11-22T07:00:00Z', 'interval_end': '2020-11-22T07:30:00Z'}, {'consumption': 0.078, 'interval_start': '2020-11-22T06:30:00Z', 'interval_end': '2020-11-22T07:00:00Z'}, {'consumption': 0.078, 'interval_start': '2020-11-22T06:00:00Z', 'interval_end': '2020-11-22T06:30:00Z'}, {'consumption': 0.07, 'interval_start': '2020-11-22T05:30:00Z', 'interval_end': '2020-11-22T06:00:00Z'}, {'consumption': 0.067, 'interval_start': '2020-11-22T05:00:00Z', 'interval_end': '2020-11-22T05:30:00Z'}, {'consumption': 0.076, 'interval_start': '2020-11-22T04:30:00Z', 'interval_end': '2020-11-22T05:00:00Z'}, {'consumption': 0.078, 'interval_start': '2020-11-22T04:00:00Z', 'interval_end': '2020-11-22T04:30:00Z'}, {'consumption': 0.079, 'interval_start': '2020-11-22T03:30:00Z', 'interval_end': '2020-11-22T04:00:00Z'}, {'consumption': 0.077, 'interval_start': '2020-11-22T03:00:00Z', 'interval_end': '2020-11-22T03:30:00Z'}, {'consumption': 0.069, 'interval_start': '2020-11-22T02:30:00Z', 'interval_end': '2020-11-22T03:00:00Z'}, {'consumption': 0.069, 'interval_start': '2020-11-22T02:00:00Z', 'interval_end': '2020-11-22T02:30:00Z'}, {'consumption': 0.079, 'interval_start': '2020-11-22T01:30:00Z', 'interval_end': '2020-11-22T02:00:00Z'}, {'consumption': 0.082, 'interval_start': '2020-11-22T01:00:00Z', 'interval_end': '2020-11-22T01:30:00Z'}, {'consumption': 0.091, 'interval_start': '2020-11-22T00:30:00Z', 'interval_end': '2020-11-22T01:00:00Z'}, {'consumption': 0.161, 'interval_start': '2020-11-22T00:00:00Z', 'interval_end': '2020-11-22T00:30:00Z'}, {'consumption': 0.221, 'interval_start': '2020-11-21T23:30:00Z', 'interval_end': '2020-11-22T00:00:00Z'}]}\n"
     ]
    }
   ],
   "source": [
    "print(data.json())\n"
   ]
  },
  {
   "cell_type": "code",
   "execution_count": 30,
   "metadata": {},
   "outputs": [],
   "source": [
    "from apd.sensors.base import HistoricalSensor, JSONSensor\n",
    "import typing as t\n",
    "import datetime\n",
    "import pint\n",
    "from pint import _DEFAULT_REGISTRY as ureg\n"
   ]
  },
  {
   "cell_type": "code",
   "execution_count": 31,
   "metadata": {},
   "outputs": [],
   "source": [
    "class PowerUsageSensor(HistoricalSensor[t.Any], JSONSensor[t.Any]):\n",
    "    def historical(\n",
    "        self, start: datetime.datetime, end: datetime.datetime\n",
    "    ) -> t.Iterable[t.Tuple[datetime.datetime, t.Any]]:\n",
    "        url = f\"https://api.octopus.energy/v1/electricity-meter-points/{MPAN}/meters/{SERIAL}/consumption/\"\n",
    "        data = requests.get(url, params={\"period_from\": start.isoformat(), \"period_to\": end.isoformat(), \"page_size\": 25000}, auth=(API_KEY, \"\"))\n",
    "        print(end.isoformat())\n",
    "        results = data.json()[\"results\"]\n",
    "        for item in results:\n",
    "            yield datetime.datetime.fromisoformat(item['interval_end'].strip(\"Z\")), ureg.Quantity(item['consumption'], ureg.kilowatthour)\n"
   ]
  },
  {
   "cell_type": "code",
   "execution_count": 32,
   "metadata": {},
   "outputs": [
    {
     "output_type": "stream",
     "name": "stdout",
     "text": [
      "2020-11-22T23:00:00\n"
     ]
    },
    {
     "output_type": "execute_result",
     "data": {
      "text/plain": [
       "((datetime.datetime(2020, 11, 22, 23, 30), 0.105 <Unit('kilowatt_hour')>),\n",
       " (datetime.datetime(2020, 11, 22, 23, 0), 0.152 <Unit('kilowatt_hour')>),\n",
       " (datetime.datetime(2020, 11, 22, 22, 30), 0.252 <Unit('kilowatt_hour')>),\n",
       " (datetime.datetime(2020, 11, 22, 22, 0), 0.383 <Unit('kilowatt_hour')>),\n",
       " (datetime.datetime(2020, 11, 22, 21, 30), 0.86 <Unit('kilowatt_hour')>),\n",
       " (datetime.datetime(2020, 11, 22, 21, 0), 0.185 <Unit('kilowatt_hour')>),\n",
       " (datetime.datetime(2020, 11, 22, 20, 30), 0.338 <Unit('kilowatt_hour')>),\n",
       " (datetime.datetime(2020, 11, 22, 20, 0), 0.207 <Unit('kilowatt_hour')>),\n",
       " (datetime.datetime(2020, 11, 22, 19, 30), 0.388 <Unit('kilowatt_hour')>),\n",
       " (datetime.datetime(2020, 11, 22, 19, 0), 0.727 <Unit('kilowatt_hour')>),\n",
       " (datetime.datetime(2020, 11, 22, 18, 30), 0.501 <Unit('kilowatt_hour')>),\n",
       " (datetime.datetime(2020, 11, 22, 18, 0), 0.171 <Unit('kilowatt_hour')>),\n",
       " (datetime.datetime(2020, 11, 22, 17, 30), 0.254 <Unit('kilowatt_hour')>),\n",
       " (datetime.datetime(2020, 11, 22, 17, 0), 0.321 <Unit('kilowatt_hour')>),\n",
       " (datetime.datetime(2020, 11, 22, 16, 30), 0.325 <Unit('kilowatt_hour')>),\n",
       " (datetime.datetime(2020, 11, 22, 16, 0), 0.139 <Unit('kilowatt_hour')>),\n",
       " (datetime.datetime(2020, 11, 22, 15, 30), 0.139 <Unit('kilowatt_hour')>),\n",
       " (datetime.datetime(2020, 11, 22, 15, 0), 0.067 <Unit('kilowatt_hour')>),\n",
       " (datetime.datetime(2020, 11, 22, 14, 30), 0.066 <Unit('kilowatt_hour')>),\n",
       " (datetime.datetime(2020, 11, 22, 14, 0), 0.038 <Unit('kilowatt_hour')>),\n",
       " (datetime.datetime(2020, 11, 22, 13, 30), 0.146 <Unit('kilowatt_hour')>),\n",
       " (datetime.datetime(2020, 11, 22, 13, 0), 0.045 <Unit('kilowatt_hour')>),\n",
       " (datetime.datetime(2020, 11, 22, 12, 30), 0.317 <Unit('kilowatt_hour')>))"
      ]
     },
     "metadata": {},
     "execution_count": 32
    }
   ],
   "source": [
    "tuple(PowerUsageSensor().historical(datetime.datetime(2020,11,22,12,0,0), datetime.datetime(2020,11,22,23,0,0)))"
   ]
  },
  {
   "cell_type": "code",
   "execution_count": null,
   "metadata": {},
   "outputs": [],
   "source": []
  }
 ]
}